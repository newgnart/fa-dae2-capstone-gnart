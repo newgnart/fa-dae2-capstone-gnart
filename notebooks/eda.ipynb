{
 "cells": [
  {
   "cell_type": "code",
   "execution_count": 2,
   "id": "f477c2c6",
   "metadata": {},
   "outputs": [],
   "source": [
    "import polars as pl\n",
    "from pathlib import Path\n",
    "\n",
    "rootdir = Path.cwd().parent"
   ]
  },
  {
   "cell_type": "code",
   "execution_count": 4,
   "id": "17cf7937",
   "metadata": {},
   "outputs": [],
   "source": [
    "df = pl.read_parquet(rootdir / \".data\" / \"ethereum_0x02950460e2b9529d0e00284a5fa2d7bdf3fa4d72\" / \"logs.parquet\")\n",
    "df = df.head(100)\n",
    "df.write_parquet(rootdir / \".data\" / \"ethereum_0x02950460e2b9529d0e00284a5fa2d7bdf3fa4d72\" / \"logs_sample.parquet\")"
   ]
  }
 ],
 "metadata": {
  "kernelspec": {
   "display_name": ".venv",
   "language": "python",
   "name": "python3"
  },
  "language_info": {
   "codemirror_mode": {
    "name": "ipython",
    "version": 3
   },
   "file_extension": ".py",
   "mimetype": "text/x-python",
   "name": "python",
   "nbconvert_exporter": "python",
   "pygments_lexer": "ipython3",
   "version": "3.11.7"
  }
 },
 "nbformat": 4,
 "nbformat_minor": 5
}
